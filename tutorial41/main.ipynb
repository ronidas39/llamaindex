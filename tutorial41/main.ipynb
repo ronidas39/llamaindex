{
 "cells": [
  {
   "cell_type": "code",
   "execution_count": 1,
   "metadata": {},
   "outputs": [],
   "source": [
    "from llama_index.core import SimpleDirectoryReader,VectorStoreIndex\n",
    "from llama_index.llms.openai import OpenAI\n",
    "from llama_index.readers.remote import RemoteReader\n",
    "from llama_index.core.agent import FunctionCallingAgentWorker\n",
    "from llama_index.core.tools import QueryEngineTool,ToolMetadata"
   ]
  },
  {
   "cell_type": "code",
   "execution_count": 2,
   "metadata": {},
   "outputs": [],
   "source": [
    "llm=OpenAI(model=\"gpt-4o\")"
   ]
  },
  {
   "cell_type": "code",
   "execution_count": 4,
   "metadata": {},
   "outputs": [],
   "source": [
    "icloader=RemoteReader()\n",
    "icdocs=icloader.load_data(\"https://justpaste.it/fdyw8\")\n",
    "icindex=VectorStoreIndex.from_documents(icdocs)\n",
    "icqe=icindex.as_query_engine(similarity_top_k=2)"
   ]
  },
  {
   "cell_type": "code",
   "execution_count": 5,
   "metadata": {},
   "outputs": [],
   "source": [
    "gsloader=RemoteReader()\n",
    "gsdocs=gsloader.load_data(\"https://justpaste.it/gc4qj\")\n",
    "gsindex=VectorStoreIndex.from_documents(gsdocs)\n",
    "gsqe=gsindex.as_query_engine(similarity_top_k=2)"
   ]
  },
  {
   "cell_type": "code",
   "execution_count": 6,
   "metadata": {},
   "outputs": [],
   "source": [
    "ssloader=RemoteReader()\n",
    "ssdocs=ssloader.load_data(\"https://justpaste.it/g250i\")\n",
    "ssindex=VectorStoreIndex.from_documents(ssdocs)\n",
    "ssqe=ssindex.as_query_engine(similarity_top_k=2)"
   ]
  },
  {
   "cell_type": "code",
   "execution_count": 7,
   "metadata": {},
   "outputs": [],
   "source": [
    "qet=[\n",
    "    QueryEngineTool(\n",
    "        query_engine=icqe,\n",
    "        metadata=ToolMetadata(name=\"intellicore\",description=\"provides information only on intelli core related questions\")\n",
    "    ),\n",
    "    QueryEngineTool(\n",
    "        query_engine=ssqe,\n",
    "        metadata=ToolMetadata(name=\"SmartSync\",description=\"provides information only on SmartSync related questions\")\n",
    "    ),\n",
    "    QueryEngineTool(\n",
    "        query_engine=gsqe,\n",
    "        metadata=ToolMetadata(name=\"GridSense\",description=\"provides information only on GridSense related questions\")\n",
    "    ),\n",
    "]\n",
    "agent_worker=FunctionCallingAgentWorker.from_tools(qet,llm=llm,verbose=True,allow_parallel_tool_calls=False)\n",
    "agent=agent_worker.as_agent()"
   ]
  },
  {
   "cell_type": "code",
   "execution_count": 11,
   "metadata": {},
   "outputs": [
    {
     "name": "stdout",
     "output_type": "stream",
     "text": [
      "Added user message to memory: for Smart Sync ,Gateway not pairing with PLC how to solve ?\n",
      "=== Calling Function ===\n",
      "Calling function: SmartSync with args: {\"input\": \"Gateway not pairing with PLC troubleshooting steps\"}\n",
      "=== Function Output ===\n",
      "Update the firmware and check for compatibility to resolve the issue of the gateway not pairing with the PLC.\n",
      "=== LLM Response ===\n",
      "To resolve the issue of the gateway not pairing with the PLC in SmartSync, you should update the firmware and check for compatibility.\n",
      "To resolve the issue of the gateway not pairing with the PLC in SmartSync, you should update the firmware and check for compatibility.\n"
     ]
    }
   ],
   "source": [
    "response=agent.chat(\"for Smart Sync ,Gateway not pairing with PLC how to solve ?\")\n",
    "print(response)"
   ]
  }
 ],
 "metadata": {
  "kernelspec": {
   "display_name": "venv",
   "language": "python",
   "name": "python3"
  },
  "language_info": {
   "codemirror_mode": {
    "name": "ipython",
    "version": 3
   },
   "file_extension": ".py",
   "mimetype": "text/x-python",
   "name": "python",
   "nbconvert_exporter": "python",
   "pygments_lexer": "ipython3",
   "version": "3.11.7"
  },
  "orig_nbformat": 4,
  "vscode": {
   "interpreter": {
    "hash": "4087707d7210a1d749976de7736027dcff8a9faea5b7753a27d0b20cf7ed133f"
   }
  }
 },
 "nbformat": 4,
 "nbformat_minor": 2
}
